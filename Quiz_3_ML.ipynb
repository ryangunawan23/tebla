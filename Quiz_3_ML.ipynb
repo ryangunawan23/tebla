{
  "nbformat": 4,
  "nbformat_minor": 0,
  "metadata": {
    "kernelspec": {
      "display_name": "Python 3",
      "language": "python",
      "name": "python3"
    },
    "language_info": {
      "codemirror_mode": {
        "name": "ipython",
        "version": 3
      },
      "file_extension": ".py",
      "mimetype": "text/x-python",
      "name": "python",
      "nbconvert_exporter": "python",
      "pygments_lexer": "ipython3",
      "version": "3.8.5"
    },
    "colab": {
      "name": "Quiz - #3 - ML.ipynb",
      "provenance": [],
      "toc_visible": true
    }
  },
  "cells": [
    {
      "cell_type": "code",
      "metadata": {
        "id": "OZJCUCaHAFUh"
      },
      "source": [
        "import pandas as pd\n",
        "from sklearn.model_selection import train_test_split\n",
        "from sklearn.feature_extraction.text import CountVectorizer\n",
        "from sklearn.naive_bayes import MultinomialNB\n",
        "from sklearn.metrics import roc_curve, confusion_matrix\n",
        "import matplotlib.pyplot as plt"
      ],
      "execution_count": 1,
      "outputs": []
    },
    {
      "cell_type": "markdown",
      "metadata": {
        "id": "pp2_Wqz-AqeV"
      },
      "source": [
        "#Read Datasets"
      ]
    },
    {
      "cell_type": "code",
      "metadata": {
        "id": "S5-wvGW_AFUo"
      },
      "source": [
        "ham_data = pd.read_csv('0002.1999-12-13.farmer.ham.txt', sep = '\\t')\n",
        "spam_data = pd.read_csv ('0084.2003-12-27.GP.spam.txt', sep = '\\t')\n",
        "\n",
        "ham_data = ham_data.rename(columns={ham_data.columns[0]: 'message'})\n",
        "spam_data = spam_data.rename(columns={spam_data.columns[0]: 'message'})\n",
        "\n",
        "ham_data ['label'] = 'ham'\n",
        "spam_data ['label'] = 'spam'"
      ],
      "execution_count": 2,
      "outputs": []
    },
    {
      "cell_type": "code",
      "metadata": {
        "colab": {
          "base_uri": "https://localhost:8080/",
          "height": 419
        },
        "id": "P2H0AHFqAFUo",
        "outputId": "3ed87af9-e8d0-4207-e5a1-24eb09ab15e6"
      },
      "source": [
        "frame = [ham_data, spam_data]\n",
        "data = pd.concat(frame)\n",
        "\n",
        "data[['label']] = data[['label']].apply(lambda col:pd.Categorical(col).codes)\n",
        "data"
      ],
      "execution_count": 3,
      "outputs": [
        {
          "output_type": "execute_result",
          "data": {
            "text/html": [
              "<div>\n",
              "<style scoped>\n",
              "    .dataframe tbody tr th:only-of-type {\n",
              "        vertical-align: middle;\n",
              "    }\n",
              "\n",
              "    .dataframe tbody tr th {\n",
              "        vertical-align: top;\n",
              "    }\n",
              "\n",
              "    .dataframe thead th {\n",
              "        text-align: right;\n",
              "    }\n",
              "</style>\n",
              "<table border=\"1\" class=\"dataframe\">\n",
              "  <thead>\n",
              "    <tr style=\"text-align: right;\">\n",
              "      <th></th>\n",
              "      <th>message</th>\n",
              "      <th>label</th>\n",
              "    </tr>\n",
              "  </thead>\n",
              "  <tbody>\n",
              "    <tr>\n",
              "      <th>0</th>\n",
              "      <td>gary , production from the high island larger ...</td>\n",
              "      <td>0</td>\n",
              "    </tr>\n",
              "    <tr>\n",
              "      <th>1</th>\n",
              "      <td>saturday at 2 : 00 p . m . at about 6 , 500 gr...</td>\n",
              "      <td>0</td>\n",
              "    </tr>\n",
              "    <tr>\n",
              "      <th>2</th>\n",
              "      <td>10 , 000 gross for tomorrow . vastar owns 68 %...</td>\n",
              "      <td>0</td>\n",
              "    </tr>\n",
              "    <tr>\n",
              "      <th>3</th>\n",
              "      <td>george x 3 - 6992</td>\n",
              "      <td>0</td>\n",
              "    </tr>\n",
              "    <tr>\n",
              "      <th>4</th>\n",
              "      <td>- - - - - - - - - - - - - - - - - - - - - - fo...</td>\n",
              "      <td>0</td>\n",
              "    </tr>\n",
              "    <tr>\n",
              "      <th>...</th>\n",
              "      <td>...</td>\n",
              "      <td>...</td>\n",
              "    </tr>\n",
              "    <tr>\n",
              "      <th>137</th>\n",
              "      <td>extra charges include a $ 5 per minute service...</td>\n",
              "      <td>1</td>\n",
              "    </tr>\n",
              "    <tr>\n",
              "      <th>138</th>\n",
              "      <td>your phone bill . / font / p</td>\n",
              "      <td>1</td>\n",
              "    </tr>\n",
              "    <tr>\n",
              "      <th>139</th>\n",
              "      <td>pnbsp ; / p</td>\n",
              "      <td>1</td>\n",
              "    </tr>\n",
              "    <tr>\n",
              "      <th>140</th>\n",
              "      <td>/ body</td>\n",
              "      <td>1</td>\n",
              "    </tr>\n",
              "    <tr>\n",
              "      <th>141</th>\n",
              "      <td>/ html</td>\n",
              "      <td>1</td>\n",
              "    </tr>\n",
              "  </tbody>\n",
              "</table>\n",
              "<p>255 rows × 2 columns</p>\n",
              "</div>"
            ],
            "text/plain": [
              "                                               message  label\n",
              "0    gary , production from the high island larger ...      0\n",
              "1    saturday at 2 : 00 p . m . at about 6 , 500 gr...      0\n",
              "2    10 , 000 gross for tomorrow . vastar owns 68 %...      0\n",
              "3                                    george x 3 - 6992      0\n",
              "4    - - - - - - - - - - - - - - - - - - - - - - fo...      0\n",
              "..                                                 ...    ...\n",
              "137  extra charges include a $ 5 per minute service...      1\n",
              "138                       your phone bill . / font / p      1\n",
              "139                                        pnbsp ; / p      1\n",
              "140                                             / body      1\n",
              "141                                             / html      1\n",
              "\n",
              "[255 rows x 2 columns]"
            ]
          },
          "metadata": {
            "tags": []
          },
          "execution_count": 3
        }
      ]
    },
    {
      "cell_type": "code",
      "metadata": {
        "id": "1a9nGi44AFUq"
      },
      "source": [
        "x = data['message']\n",
        "y = data['label']"
      ],
      "execution_count": 4,
      "outputs": []
    },
    {
      "cell_type": "code",
      "metadata": {
        "id": "JfQJwNwvAFUq"
      },
      "source": [
        "x_train, x_test, y_train, y_test = train_test_split (x, y, test_size = 0.2)"
      ],
      "execution_count": 5,
      "outputs": []
    },
    {
      "cell_type": "markdown",
      "metadata": {
        "id": "aWWbUpkOBCb9"
      },
      "source": [
        "#Stemming and Lemmatization"
      ]
    },
    {
      "cell_type": "code",
      "metadata": {
        "id": "5IhRrb69AFUq"
      },
      "source": [
        "cv = CountVectorizer()\n",
        "cv.fit(x_train)\n",
        "\n",
        "x_train = cv.transform(x_train)\n",
        "x_test = cv.transform(x_test)"
      ],
      "execution_count": 6,
      "outputs": []
    },
    {
      "cell_type": "markdown",
      "metadata": {
        "id": "3COQopAqBGSx"
      },
      "source": [
        "#Training"
      ]
    },
    {
      "cell_type": "code",
      "metadata": {
        "colab": {
          "base_uri": "https://localhost:8080/"
        },
        "id": "q5GyOdrCAFUr",
        "outputId": "594a9fe6-5a95-457d-db6e-47148c7c2802"
      },
      "source": [
        "nb = MultinomialNB()\n",
        "nb.fit(x_train, y_train)"
      ],
      "execution_count": 7,
      "outputs": [
        {
          "output_type": "execute_result",
          "data": {
            "text/plain": [
              "MultinomialNB(alpha=1.0, class_prior=None, fit_prior=True)"
            ]
          },
          "metadata": {
            "tags": []
          },
          "execution_count": 7
        }
      ]
    },
    {
      "cell_type": "markdown",
      "metadata": {
        "id": "QuuoebaHBIxE"
      },
      "source": [
        "#Testing"
      ]
    },
    {
      "cell_type": "code",
      "metadata": {
        "colab": {
          "base_uri": "https://localhost:8080/"
        },
        "id": "-QWjXWcsAFUr",
        "outputId": "30738c01-6a71-4175-e058-7fa7df05aedb"
      },
      "source": [
        "predicted = nb.predict(x_test)\n",
        "confusion_matrix(y_test, predicted)"
      ],
      "execution_count": 8,
      "outputs": [
        {
          "output_type": "execute_result",
          "data": {
            "text/plain": [
              "array([[ 8, 13],\n",
              "       [ 0, 30]])"
            ]
          },
          "metadata": {
            "tags": []
          },
          "execution_count": 8
        }
      ]
    },
    {
      "cell_type": "code",
      "metadata": {
        "colab": {
          "base_uri": "https://localhost:8080/"
        },
        "id": "1_MoR_w7AFUr",
        "outputId": "dad215aa-f060-4792-cc63-6ad241f873fe"
      },
      "source": [
        "print(nb.score(x_test, y_test))"
      ],
      "execution_count": 9,
      "outputs": [
        {
          "output_type": "stream",
          "text": [
            "0.7450980392156863\n"
          ],
          "name": "stdout"
        }
      ]
    },
    {
      "cell_type": "markdown",
      "metadata": {
        "id": "V41nQ6H8BdeZ"
      },
      "source": [
        "#Model Evaluation"
      ]
    },
    {
      "cell_type": "code",
      "metadata": {
        "colab": {
          "base_uri": "https://localhost:8080/",
          "height": 279
        },
        "id": "-OKVg9wnAFUs",
        "outputId": "70f3f4f3-bb53-4851-f516-d5562b90dac4"
      },
      "source": [
        "fpr,tpr,thresholds = roc_curve(y_test , predicted)\n",
        "\n",
        "plt.plot([0,1], [0,1], 'k--')\n",
        "plt.plot(fpr,tpr)\n",
        "plt.xlabel(\"False positive\")\n",
        "plt.ylabel(\"True positive\")\n",
        "plt.show()"
      ],
      "execution_count": 10,
      "outputs": [
        {
          "output_type": "display_data",
          "data": {
            "image/png": "[encoded data removed]",
            "text/plain": [
              "<Figure size 432x288 with 1 Axes>"
            ]
          },
          "metadata": {
            "tags": [],
            "needs_background": "light"
          }
        }
      ]
    }
  ]
}